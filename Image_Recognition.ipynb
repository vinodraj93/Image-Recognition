{
  "nbformat": 4,
  "nbformat_minor": 0,
  "metadata": {
    "colab": {
      "name": "Image Recognition",
      "provenance": [],
      "mount_file_id": "1NkamRZC3aYkj1LW1KQBTNVjxPkI0G8SG",
      "authorship_tag": "ABX9TyMpZUVe60BY0Q+XDbIW3gTX",
      "include_colab_link": true
    },
    "kernelspec": {
      "name": "python3",
      "display_name": "Python 3"
    },
    "accelerator": "TPU"
  },
  "cells": [
    {
      "cell_type": "markdown",
      "metadata": {
        "id": "view-in-github",
        "colab_type": "text"
      },
      "source": [
        "<a href=\"https://colab.research.google.com/github/vinodraj93/Image-Recognition/blob/master/Image_Recognition.ipynb\" target=\"_parent\"><img src=\"https://colab.research.google.com/assets/colab-badge.svg\" alt=\"Open In Colab\"/></a>"
      ]
    },
    {
      "cell_type": "code",
      "metadata": {
        "id": "_PxKCrJZonsw",
        "colab_type": "code",
        "outputId": "b02b8fa7-56c1-438c-9cf5-533744b2b999",
        "colab": {
          "base_uri": "https://localhost:8080/",
          "height": 119
        }
      },
      "source": [
        "%tensorflow_version 1.14\n",
        "from keras.models import Sequential\n",
        "from keras.layers import Convolution2D\n",
        "from keras.layers import MaxPooling2D\n",
        "from keras.layers import Flatten\n",
        "from keras.layers import Dense\n",
        "\n"
      ],
      "execution_count": 0,
      "outputs": [
        {
          "output_type": "stream",
          "text": [
            "`%tensorflow_version` only switches the major version: 1.x or 2.x.\n",
            "You set: `1.14`. This will be interpreted as: `1.x`.\n",
            "\n",
            "\n",
            "TensorFlow 1.x selected.\n"
          ],
          "name": "stdout"
        },
        {
          "output_type": "stream",
          "text": [
            "Using TensorFlow backend.\n"
          ],
          "name": "stderr"
        }
      ]
    },
    {
      "cell_type": "code",
      "metadata": {
        "id": "vZpinUG6WDhy",
        "colab_type": "code",
        "outputId": "187de8d4-dd4d-47d9-8867-cc2bc7c446d4",
        "colab": {
          "base_uri": "https://localhost:8080/",
          "height": 34
        }
      },
      "source": [
        "import os\n",
        "from glob import glob\n",
        "from IPython.display import clear_output\n",
        "import matplotlib.pyplot as plt\n",
        "import matplotlib.image as mpimg\n",
        "PATH = \"/content/drive/My Drive/Convolutional_Neural_Networks/dataset/training_set/dogs\"\n",
        "EXT = \"*.jpg\"\n",
        "\n",
        "all_csv_files = [file\n",
        "                 for path, subdir, files in os.walk(PATH)\n",
        "                 for file in glob(os.path.join(path, EXT))]\n",
        "all_csv_files = all_csv_files[:500]\n",
        "\n",
        "labels = ['Dogs' for i in range(len(all_csv_files))]\n",
        "\n",
        "PATH = \"/content/drive/My Drive/Convolutional_Neural_Networks/dataset/training_set/cats\"\n",
        "\n",
        "all_csv_files1 = [file\n",
        "                 for path, subdir, files in os.walk(PATH)\n",
        "                 for file in glob(os.path.join(path, EXT))]\n",
        "all_csv_files1 = all_csv_files1[:500]\n",
        "labels1 = ['Cats' for i in range(len(all_csv_files1))]\n",
        "\n",
        "all_csv_files.extend(all_csv_files1)\n",
        "labels.extend(labels1)\n",
        "\n",
        "images = []\n",
        "\n",
        "for ind,i in enumerate(all_csv_files):\n",
        "  clear_output(wait=True)\n",
        "  img=mpimg.imread(i)\n",
        "  images.append(img)\n",
        "  print(round(ind*100/len(all_csv_files)),'%')\n",
        "\n",
        "\n"
      ],
      "execution_count": 0,
      "outputs": [
        {
          "output_type": "stream",
          "text": [
            "100 %\n"
          ],
          "name": "stdout"
        }
      ]
    },
    {
      "cell_type": "code",
      "metadata": {
        "id": "cOVl3lj_o87V",
        "colab_type": "code",
        "outputId": "ad2d902a-cb96-4568-f2c7-323bace38832",
        "colab": {
          "base_uri": "https://localhost:8080/",
          "height": 139
        }
      },
      "source": [
        "classifier = Sequential()\n",
        "classifier.add(Convolution2D(32,3,3,input_shape=(64,64,3),activation='relu'))\n",
        "classifier.add(MaxPooling2D(pool_size=(2,2)))\n",
        "classifier.add(Flatten())\n",
        "classifier.add(Dense(output_dim = 128, activation = 'relu'))\n",
        "classifier.add(Dense(output_dim = 1, activation='sigmoid'))\n",
        "\n",
        "classifier.compile(optimizer='adam',loss='binary_crossentropy',metrics=['accuracy'])\n",
        "\n"
      ],
      "execution_count": 0,
      "outputs": [
        {
          "output_type": "stream",
          "text": [
            "/usr/local/lib/python3.6/dist-packages/ipykernel_launcher.py:2: UserWarning: Update your `Conv2D` call to the Keras 2 API: `Conv2D(32, (3, 3), input_shape=(64, 64, 3..., activation=\"relu\")`\n",
            "  \n",
            "/usr/local/lib/python3.6/dist-packages/ipykernel_launcher.py:5: UserWarning: Update your `Dense` call to the Keras 2 API: `Dense(activation=\"relu\", units=128)`\n",
            "  \"\"\"\n",
            "/usr/local/lib/python3.6/dist-packages/ipykernel_launcher.py:6: UserWarning: Update your `Dense` call to the Keras 2 API: `Dense(activation=\"sigmoid\", units=1)`\n",
            "  \n"
          ],
          "name": "stderr"
        }
      ]
    },
    {
      "cell_type": "code",
      "metadata": {
        "id": "AGnLoDqEwnZS",
        "colab_type": "code",
        "cellView": "both",
        "outputId": "cf1db605-8f9e-4de0-d716-10235c58bd1d",
        "colab": {
          "base_uri": "https://localhost:8080/",
          "height": 51
        }
      },
      "source": [
        "from keras.preprocessing.image import ImageDataGenerator\n",
        "\n",
        "train_datagen = ImageDataGenerator(\n",
        "    rescale=1./255,\n",
        "    shear_range=0.2,\n",
        "    zoom_range=0.2,\n",
        "    horizontal_flip=True)\n",
        "\n",
        "test_datagen = ImageDataGenerator(rescale=1./255)\n",
        "training_set = train_datagen.flow_from_directory(\n",
        "    '/content/drive/My Drive/Convolutional_Neural_Networks/dataset/training_set',\n",
        "    target_size=(64,64),\n",
        "    batch_size=32,\n",
        "    class_mode='binary'\n",
        ")\n",
        "\n",
        "test_set = test_datagen.flow_from_directory(\n",
        "    '/content/drive/My Drive/Convolutional_Neural_Networks/dataset/test_set',\n",
        "    target_size=(64,64),\n",
        "    batch_size=32,\n",
        "    class_mode='binary'\n",
        ")\n"
      ],
      "execution_count": 0,
      "outputs": [
        {
          "output_type": "stream",
          "text": [
            "Found 8000 images belonging to 2 classes.\n",
            "Found 2000 images belonging to 2 classes.\n"
          ],
          "name": "stdout"
        }
      ]
    },
    {
      "cell_type": "code",
      "metadata": {
        "id": "A87BcJuiy0t-",
        "colab_type": "code",
        "outputId": "8c6704c7-7d26-48a2-f064-f8be968eb099",
        "colab": {
          "base_uri": "https://localhost:8080/",
          "height": 394
        }
      },
      "source": [
        "from IPython.display import  display\n",
        "from PIL import Image\n",
        "\n",
        "classifier.fit_generator(\n",
        "    training_set,\n",
        "    steps_per_epoch=10,\n",
        "    epochs=10,\n",
        "    validation_data = test_set,\n",
        "    validation_steps = 8\n",
        ")"
      ],
      "execution_count": 0,
      "outputs": [
        {
          "output_type": "stream",
          "text": [
            "Epoch 1/10\n",
            "10/10 [==============================] - 68s 7s/step - loss: 0.6889 - acc: 0.5656 - val_loss: 0.6994 - val_acc: 0.5352\n",
            "Epoch 2/10\n",
            "10/10 [==============================] - 80s 8s/step - loss: 0.6717 - acc: 0.5625 - val_loss: 0.6788 - val_acc: 0.5273\n",
            "Epoch 3/10\n",
            "10/10 [==============================] - 58s 6s/step - loss: 0.6527 - acc: 0.5781 - val_loss: 0.6341 - val_acc: 0.6445\n",
            "Epoch 4/10\n",
            "10/10 [==============================] - 105s 11s/step - loss: 0.6374 - acc: 0.6344 - val_loss: 0.6284 - val_acc: 0.6367\n",
            "Epoch 5/10\n",
            "10/10 [==============================] - 105s 10s/step - loss: 0.6530 - acc: 0.6219 - val_loss: 0.6221 - val_acc: 0.6641\n",
            "Epoch 6/10\n",
            "10/10 [==============================] - 104s 10s/step - loss: 0.6311 - acc: 0.6625 - val_loss: 0.6183 - val_acc: 0.6719\n",
            "Epoch 7/10\n",
            "10/10 [==============================] - 103s 10s/step - loss: 0.6627 - acc: 0.6156 - val_loss: 0.6896 - val_acc: 0.5820\n",
            "Epoch 8/10\n",
            "10/10 [==============================] - 77s 8s/step - loss: 0.6241 - acc: 0.6437 - val_loss: 0.6113 - val_acc: 0.6625\n",
            "Epoch 9/10\n",
            "10/10 [==============================] - 15s 2s/step - loss: 0.6393 - acc: 0.6125 - val_loss: 0.6388 - val_acc: 0.6250\n",
            "Epoch 10/10\n",
            "10/10 [==============================] - 66s 7s/step - loss: 0.6032 - acc: 0.6875 - val_loss: 0.6159 - val_acc: 0.6523\n"
          ],
          "name": "stdout"
        },
        {
          "output_type": "execute_result",
          "data": {
            "text/plain": [
              "<keras.callbacks.History at 0x7f21ce214a90>"
            ]
          },
          "metadata": {
            "tags": []
          },
          "execution_count": 18
        }
      ]
    },
    {
      "cell_type": "code",
      "metadata": {
        "id": "E2Hq2cng5RSL",
        "colab_type": "code",
        "outputId": "ac5e2305-0cd2-4db8-d5e0-9561417da346",
        "colab": {
          "base_uri": "https://localhost:8080/",
          "height": 34
        }
      },
      "source": [
        "import numpy as np\n",
        "from keras.preprocessing import image\n",
        "test_image = image.load_img('/content/drive/My Drive/Convolutional_Neural_Networks/dataset/cat.jpeg',target_size=(64,64))\n",
        "test_image = image.img_to_array(test_image)\n",
        "test_image = np.expand_dims(test_image, axis=0)\n",
        "result = classifier.predict(test_image)\n",
        "training_set.class_indices\n",
        "if result[0][0] >= 0.5:\n",
        "  prediction = 'dog'\n",
        "else:\n",
        "  prediction = 'cat'\n",
        "print(prediction)\n"
      ],
      "execution_count": 0,
      "outputs": [
        {
          "output_type": "stream",
          "text": [
            "dog\n"
          ],
          "name": "stdout"
        }
      ]
    }
  ]
}