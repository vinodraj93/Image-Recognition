{
  "nbformat": 4,
  "nbformat_minor": 0,
  "metadata": {
    "colab": {
      "name": "Image Recognition",
      "provenance": [],
      "mount_file_id": "1NkamRZC3aYkj1LW1KQBTNVjxPkI0G8SG",
      "authorship_tag": "ABX9TyPW/Mv/SYoQo6sD7L9EOIoy",
      "include_colab_link": true
    },
    "kernelspec": {
      "name": "python3",
      "display_name": "Python 3"
    },
    "accelerator": "TPU"
  },
  "cells": [
    {
      "cell_type": "markdown",
      "metadata": {
        "id": "view-in-github",
        "colab_type": "text"
      },
      "source": [
        "<a href=\"https://colab.research.google.com/github/vinodraj93/Image-Recognition/blob/master/Image_Recognition.ipynb\" target=\"_parent\"><img src=\"https://colab.research.google.com/assets/colab-badge.svg\" alt=\"Open In Colab\"/></a>"
      ]
    },
    {
      "cell_type": "code",
      "metadata": {
        "id": "_PxKCrJZonsw",
        "colab_type": "code",
        "outputId": "37882539-2124-4da1-a881-6f1f66c362be",
        "colab": {
          "base_uri": "https://localhost:8080/",
          "height": 119
        }
      },
      "source": [
        "%tensorflow_version 1.14\n",
        "from keras.models import Sequential\n",
        "from keras.layers import Convolution2D\n",
        "from keras.layers import MaxPooling2D\n",
        "from keras.layers import Flatten\n",
        "from keras.layers import Dense\n",
        "\n"
      ],
      "execution_count": 1,
      "outputs": [
        {
          "output_type": "stream",
          "text": [
            "`%tensorflow_version` only switches the major version: 1.x or 2.x.\n",
            "You set: `1.14`. This will be interpreted as: `1.x`.\n",
            "\n",
            "\n",
            "TensorFlow 1.x selected.\n"
          ],
          "name": "stdout"
        },
        {
          "output_type": "stream",
          "text": [
            "Using TensorFlow backend.\n"
          ],
          "name": "stderr"
        }
      ]
    },
    {
      "cell_type": "code",
      "metadata": {
        "id": "vZpinUG6WDhy",
        "colab_type": "code",
        "outputId": "187de8d4-dd4d-47d9-8867-cc2bc7c446d4",
        "colab": {
          "base_uri": "https://localhost:8080/",
          "height": 34
        }
      },
      "source": [
        "import os\n",
        "from glob import glob\n",
        "from IPython.display import clear_output\n",
        "import matplotlib.pyplot as plt\n",
        "import matplotlib.image as mpimg\n",
        "PATH = \"/content/drive/My Drive/Convolutional_Neural_Networks/dataset/training_set/dogs\"\n",
        "EXT = \"*.jpg\"\n",
        "\n",
        "all_csv_files = [file\n",
        "                 for path, subdir, files in os.walk(PATH)\n",
        "                 for file in glob(os.path.join(path, EXT))]\n",
        "all_csv_files = all_csv_files[:500]\n",
        "\n",
        "labels = ['Dogs' for i in range(len(all_csv_files))]\n",
        "\n",
        "PATH = \"/content/drive/My Drive/Convolutional_Neural_Networks/dataset/training_set/cats\"\n",
        "\n",
        "all_csv_files1 = [file\n",
        "                 for path, subdir, files in os.walk(PATH)\n",
        "                 for file in glob(os.path.join(path, EXT))]\n",
        "all_csv_files1 = all_csv_files1[:500]\n",
        "labels1 = ['Cats' for i in range(len(all_csv_files1))]\n",
        "\n",
        "all_csv_files.extend(all_csv_files1)\n",
        "labels.extend(labels1)\n",
        "\n",
        "images = []\n",
        "\n",
        "for ind,i in enumerate(all_csv_files):\n",
        "  clear_output(wait=True)\n",
        "  img=mpimg.imread(i)\n",
        "  images.append(img)\n",
        "  print(round(ind*100/len(all_csv_files)),'%')\n",
        "\n",
        "\n"
      ],
      "execution_count": 0,
      "outputs": [
        {
          "output_type": "stream",
          "text": [
            "100 %\n"
          ],
          "name": "stdout"
        }
      ]
    },
    {
      "cell_type": "code",
      "metadata": {
        "id": "cOVl3lj_o87V",
        "colab_type": "code",
        "outputId": "65500f63-6b37-48fb-ec68-b97b4e13ad81",
        "colab": {
          "base_uri": "https://localhost:8080/",
          "height": 394
        }
      },
      "source": [
        "classifier = Sequential()\n",
        "classifier.add(Convolution2D(32,3,3,input_shape=(64,64,3),activation='relu'))\n",
        "classifier.add(MaxPooling2D(pool_size=(2,2)))\n",
        "classifier.add(Flatten())\n",
        "classifier.add(Dense(output_dim = 128, activation = 'relu'))\n",
        "classifier.add(Dense(output_dim = 1, activation='sigmoid'))\n",
        "\n",
        "classifier.compile(optimizer='adam',loss='binary_crossentropy',metrics=['accuracy'])\n",
        "\n"
      ],
      "execution_count": 2,
      "outputs": [
        {
          "output_type": "stream",
          "text": [
            "WARNING:tensorflow:From /usr/local/lib/python3.6/dist-packages/keras/backend/tensorflow_backend.py:66: The name tf.get_default_graph is deprecated. Please use tf.compat.v1.get_default_graph instead.\n",
            "\n",
            "WARNING:tensorflow:From /usr/local/lib/python3.6/dist-packages/keras/backend/tensorflow_backend.py:541: The name tf.placeholder is deprecated. Please use tf.compat.v1.placeholder instead.\n",
            "\n",
            "WARNING:tensorflow:From /usr/local/lib/python3.6/dist-packages/keras/backend/tensorflow_backend.py:4432: The name tf.random_uniform is deprecated. Please use tf.random.uniform instead.\n",
            "\n",
            "WARNING:tensorflow:From /usr/local/lib/python3.6/dist-packages/keras/backend/tensorflow_backend.py:4267: The name tf.nn.max_pool is deprecated. Please use tf.nn.max_pool2d instead.\n",
            "\n",
            "WARNING:tensorflow:From /usr/local/lib/python3.6/dist-packages/keras/optimizers.py:793: The name tf.train.Optimizer is deprecated. Please use tf.compat.v1.train.Optimizer instead.\n",
            "\n",
            "WARNING:tensorflow:From /usr/local/lib/python3.6/dist-packages/keras/backend/tensorflow_backend.py:3657: The name tf.log is deprecated. Please use tf.math.log instead.\n",
            "\n",
            "WARNING:tensorflow:From /tensorflow-1.15.2/python3.6/tensorflow_core/python/ops/nn_impl.py:183: where (from tensorflow.python.ops.array_ops) is deprecated and will be removed in a future version.\n",
            "Instructions for updating:\n",
            "Use tf.where in 2.0, which has the same broadcast rule as np.where\n"
          ],
          "name": "stdout"
        },
        {
          "output_type": "stream",
          "text": [
            "/usr/local/lib/python3.6/dist-packages/ipykernel_launcher.py:2: UserWarning: Update your `Conv2D` call to the Keras 2 API: `Conv2D(32, (3, 3), input_shape=(64, 64, 3..., activation=\"relu\")`\n",
            "  \n",
            "/usr/local/lib/python3.6/dist-packages/ipykernel_launcher.py:5: UserWarning: Update your `Dense` call to the Keras 2 API: `Dense(activation=\"relu\", units=128)`\n",
            "  \"\"\"\n",
            "/usr/local/lib/python3.6/dist-packages/ipykernel_launcher.py:6: UserWarning: Update your `Dense` call to the Keras 2 API: `Dense(activation=\"sigmoid\", units=1)`\n",
            "  \n"
          ],
          "name": "stderr"
        }
      ]
    },
    {
      "cell_type": "code",
      "metadata": {
        "id": "AGnLoDqEwnZS",
        "colab_type": "code",
        "cellView": "both",
        "outputId": "cdc8ad35-5200-48d7-89a0-c31fa157a34a",
        "colab": {
          "base_uri": "https://localhost:8080/",
          "height": 51
        }
      },
      "source": [
        "from keras.preprocessing.image import ImageDataGenerator\n",
        "\n",
        "train_datagen = ImageDataGenerator(\n",
        "    rescale=1./255,\n",
        "    shear_range=0.2,\n",
        "    zoom_range=0.2,\n",
        "    horizontal_flip=True)\n",
        "\n",
        "test_datagen = ImageDataGenerator(rescale=1./255)\n",
        "training_set = train_datagen.flow_from_directory(\n",
        "    '/content/drive/My Drive/Convolutional_Neural_Networks/dataset/training_set',\n",
        "    target_size=(64,64),\n",
        "    batch_size=32,\n",
        "    class_mode='binary'\n",
        ")\n",
        "\n",
        "test_set = test_datagen.flow_from_directory(\n",
        "    '/content/drive/My Drive/Convolutional_Neural_Networks/dataset/test_set',\n",
        "    target_size=(64,64),\n",
        "    batch_size=32,\n",
        "    class_mode='binary'\n",
        ")\n"
      ],
      "execution_count": 3,
      "outputs": [
        {
          "output_type": "stream",
          "text": [
            "Found 8000 images belonging to 2 classes.\n",
            "Found 2000 images belonging to 2 classes.\n"
          ],
          "name": "stdout"
        }
      ]
    },
    {
      "cell_type": "code",
      "metadata": {
        "id": "A87BcJuiy0t-",
        "colab_type": "code",
        "outputId": "2663c77c-e85d-4e43-d310-687474553ed8",
        "colab": {
          "base_uri": "https://localhost:8080/",
          "height": 394
        }
      },
      "source": [
        "from IPython.display import  display\n",
        "from PIL import Image\n",
        "\n",
        "classifier.fit_generator(\n",
        "    training_set,\n",
        "    steps_per_epoch=8000,\n",
        "    epochs=10,\n",
        "    validation_data = test_set,\n",
        "    validation_steps = 800\n",
        ")"
      ],
      "execution_count": 8,
      "outputs": [
        {
          "output_type": "stream",
          "text": [
            "Epoch 1/10\n",
            "8000/8000 [==============================] - 2228s 278ms/step - loss: 0.3776 - acc: 0.8252 - val_loss: 0.7392 - val_acc: 0.7545\n",
            "Epoch 2/10\n",
            "8000/8000 [==============================] - 2209s 276ms/step - loss: 0.1493 - acc: 0.9414 - val_loss: 1.2708 - val_acc: 0.7448\n",
            "Epoch 3/10\n",
            "8000/8000 [==============================] - 2214s 277ms/step - loss: 0.0816 - acc: 0.9705 - val_loss: 1.3257 - val_acc: 0.7509\n",
            "Epoch 4/10\n",
            "8000/8000 [==============================] - 2213s 277ms/step - loss: 0.0569 - acc: 0.9800 - val_loss: 1.5321 - val_acc: 0.7433\n",
            "Epoch 5/10\n",
            "8000/8000 [==============================] - 2191s 274ms/step - loss: 0.0448 - acc: 0.9846 - val_loss: 1.8673 - val_acc: 0.7411\n",
            "Epoch 6/10\n",
            "8000/8000 [==============================] - 2205s 276ms/step - loss: 0.0381 - acc: 0.9874 - val_loss: 2.0781 - val_acc: 0.7326\n",
            "Epoch 7/10\n",
            "8000/8000 [==============================] - 2221s 278ms/step - loss: 0.0323 - acc: 0.9895 - val_loss: 2.0909 - val_acc: 0.7517\n",
            "Epoch 8/10\n",
            "8000/8000 [==============================] - 2193s 274ms/step - loss: 0.0293 - acc: 0.9904 - val_loss: 2.1253 - val_acc: 0.7454\n",
            "Epoch 9/10\n",
            "8000/8000 [==============================] - 2191s 274ms/step - loss: 0.0266 - acc: 0.9913 - val_loss: 2.0890 - val_acc: 0.7539\n",
            "Epoch 10/10\n",
            "8000/8000 [==============================] - 2193s 274ms/step - loss: 0.0228 - acc: 0.9925 - val_loss: 2.0544 - val_acc: 0.7564\n"
          ],
          "name": "stdout"
        },
        {
          "output_type": "execute_result",
          "data": {
            "text/plain": [
              "<keras.callbacks.History at 0x7fca630952e8>"
            ]
          },
          "metadata": {
            "tags": []
          },
          "execution_count": 8
        }
      ]
    },
    {
      "cell_type": "code",
      "metadata": {
        "id": "E2Hq2cng5RSL",
        "colab_type": "code",
        "colab": {}
      },
      "source": [
        "import numpy as np\n",
        "from keras.preprocessing import image\n",
        "import os\n",
        "from glob import glob\n",
        "PATH = \"/content/drive/My Drive/Convolutional_Neural_Networks/dataset/test_set/dogs\"\n",
        "EXT = \"*.jpg\"\n",
        "\n",
        "tetcat = [file\n",
        "                 for path, subdir, files in os.walk(PATH)\n",
        "                 for file in glob(os.path.join(path, EXT))]\n",
        "\n",
        "p = []\n",
        "for i in tetcat:\n",
        "  test_image = image.load_img(i,target_size=(64,64))\n",
        "  test_image = image.img_to_array(test_image)\n",
        "  test_image = np.expand_dims(test_image, axis=0)\n",
        "  result = classifier.predict(test_image)\n",
        "  training_set.class_indices\n",
        "  if result[0][0] >= 0.5:\n",
        "    prediction = 'dog'\n",
        "  else:\n",
        "    prediction = 'cat'\n",
        "  p.append(prediction)\n"
      ],
      "execution_count": 0,
      "outputs": []
    },
    {
      "cell_type": "code",
      "metadata": {
        "id": "doeCms52oojO",
        "colab_type": "code",
        "colab": {
          "base_uri": "https://localhost:8080/",
          "height": 34
        },
        "outputId": "ae55b10d-533c-44d0-e200-e1a74ba77a53"
      },
      "source": [
        "# p.count('cat')\n",
        "p.count('dog')"
      ],
      "execution_count": 24,
      "outputs": [
        {
          "output_type": "execute_result",
          "data": {
            "text/plain": [
              "915"
            ]
          },
          "metadata": {
            "tags": []
          },
          "execution_count": 24
        }
      ]
    }
  ]
}